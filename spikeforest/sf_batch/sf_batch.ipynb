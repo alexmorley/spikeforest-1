{
 "cells": [
  {
   "cell_type": "code",
   "execution_count": null,
   "metadata": {},
   "outputs": [],
   "source": [
    "%load_ext autoreload\n",
    "%autoreload 2\n",
    "\n",
    "import spikeforest as sf\n",
    "from kbucket import client as kb\n",
    "from pairio import client as pa\n",
    "from spikeforest.sf_batch import sf_batch_prepare, sf_batch_run, sf_batch_assemble\n",
    "from getpass import getpass\n",
    "import os"
   ]
  },
  {
   "cell_type": "code",
   "execution_count": null,
   "metadata": {},
   "outputs": [],
   "source": [
    "config={\n",
    "    \"batch_name\":\"test1\",\n",
    "    \"share_id\":\"spikeforest.spikeforest1\",\n",
    "\t\"studies\":[\"magland_synth_noise10_K10_C4\"],\n",
    "\t\"datasets\":[\"001_synth\"],\n",
    "\t\"sorters\":[\n",
    "\t\t{\n",
    "\t\t\t\"name\":\"MountainSort4-thr3\",\n",
    "            \"processor_name\":\"MountainSort4\",\n",
    "\t\t\t\"params\":{\n",
    "\t\t\t\t\"detect_sign\":-1,\n",
    "\t\t\t\t\"adjacency_radius\":25,\n",
    "\t\t\t\t\"detect_threshold\":3\n",
    "\t\t\t}\n",
    "\t\t},\n",
    "        {\n",
    "\t\t\t\"name\":\"MountainSort4-thr5\",\n",
    "            \"processor_name\":\"MountainSort4\",\n",
    "\t\t\t\"params\":{\n",
    "\t\t\t\t\"detect_sign\":-1,\n",
    "\t\t\t\t\"adjacency_radius\":25,\n",
    "\t\t\t\t\"detect_threshold\":5\n",
    "\t\t\t}\n",
    "\t\t}\n",
    "\t]\n",
    "}\n",
    "display(config)"
   ]
  },
  {
   "cell_type": "code",
   "execution_count": null,
   "metadata": {},
   "outputs": [],
   "source": [
    "os.environ['SPIKEFOREST_PASSWORD']=getpass(prompt=('Enter SpikeForest password:'))"
   ]
  },
  {
   "cell_type": "code",
   "execution_count": null,
   "metadata": {},
   "outputs": [],
   "source": [
    "sf_batch_prepare(config,clear_all=False)\n",
    "sf_batch_run(config)\n",
    "sf_batch_assemble(config)"
   ]
  },
  {
   "cell_type": "code",
   "execution_count": null,
   "metadata": {},
   "outputs": [],
   "source": [
    "A=kb.loadObject(key=dict(batch_name=config['batch_name']))"
   ]
  },
  {
   "cell_type": "code",
   "execution_count": null,
   "metadata": {},
   "outputs": [],
   "source": [
    "display(A)"
   ]
  },
  {
   "cell_type": "code",
   "execution_count": null,
   "metadata": {},
   "outputs": [],
   "source": []
  }
 ],
 "metadata": {
  "kernelspec": {
   "display_name": "Python 3",
   "language": "python",
   "name": "python3"
  },
  "language_info": {
   "codemirror_mode": {
    "name": "ipython",
    "version": 3
   },
   "file_extension": ".py",
   "mimetype": "text/x-python",
   "name": "python",
   "nbconvert_exporter": "python",
   "pygments_lexer": "ipython3",
   "version": "3.6.6"
  }
 },
 "nbformat": 4,
 "nbformat_minor": 2
}
