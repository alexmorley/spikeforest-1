{
 "cells": [
  {
   "cell_type": "code",
   "execution_count": null,
   "metadata": {},
   "outputs": [],
   "source": [
    "%load_ext autoreload\n",
    "%autoreload 2\n",
    "\n",
    "import spikeinterface as si\n",
    "import spikewidgets as sw\n",
    "import spiketoolkit as st\n",
    "\n",
    "from kbucket import client as kb\n",
    "from pairio import client as pa\n",
    "\n",
    "from spikeforest_sort import spikeforest_sort, mountainsort4b_params\n",
    "\n",
    "from sortingcomparison import SortingComparison"
   ]
  },
  {
   "cell_type": "code",
   "execution_count": null,
   "metadata": {},
   "outputs": [],
   "source": [
    "pa.setConfig(collections=['magland'])\n",
    "kb.setConfig(share_ids=['magland.eh1'])"
   ]
  },
  {
   "cell_type": "code",
   "execution_count": null,
   "metadata": {},
   "outputs": [],
   "source": [
    "pa.setConfig(user=pa.getLocal('pairio-user'),token=pa.getLocal('pairio-token'))\n",
    "kb.setConfig(upload_share_id='magland.eh1',upload_token=pa.getLocal('eh1-token'))"
   ]
  },
  {
   "cell_type": "code",
   "execution_count": null,
   "metadata": {},
   "outputs": [],
   "source": [
    "sorters=[]\n",
    "ms4_sorter=st.sorters.mountainsort4\n",
    "setattr(ms4_sorter,'name','mountainsort4')\n",
    "setattr(ms4_sorter,'version','4.0.0')\n",
    "ms4_params=mountainsort4b_params(adjacency_radius=-1,detect_sign=-1,detect_threshold=3)\n",
    "sorters.append(dict(\n",
    "    name='mountainsort4',\n",
    "    sorter=ms4_sorter,\n",
    "    params=ms4_params\n",
    "))"
   ]
  },
  {
   "cell_type": "code",
   "execution_count": null,
   "metadata": {},
   "outputs": [],
   "source": [
    "datasets=[]\n",
    "study_dir='kbucket://b5ecdf1474c5/spikeforest/gen_synth_datasets/datasets_noise10_K10'\n",
    "dd=kb.readDir(study_dir)\n",
    "for dsname in dd['dirs']:\n",
    "    dsdir='{}/{}'.format(study_dir,dsname)\n",
    "    datasets.append(dict(\n",
    "        name=dsname,\n",
    "        dsdir=dsdir\n",
    "    ))"
   ]
  },
  {
   "cell_type": "code",
   "execution_count": null,
   "metadata": {},
   "outputs": [],
   "source": [
    "dd=kb.readDir(study_dir)\n",
    "results=[]\n",
    "for dataset in datasets:\n",
    "    for sorter in sorters:\n",
    "        print('SORTER={}, DATASET={}'.format(sorter['name'],dataset['name']))\n",
    "        sorting=spikeforest_sort(\n",
    "            recording_dirname=dataset['dsdir'],\n",
    "            sorter=sorter['sorter'],\n",
    "            sorting_params=sorter['params'],\n",
    "            _force_run=False,\n",
    "            _force_save=False\n",
    "        )\n",
    "        results.append(dict(\n",
    "            sorter=sorter,\n",
    "            dataset=dataset,\n",
    "            sorting=sorting\n",
    "        ))"
   ]
  },
  {
   "cell_type": "code",
   "execution_count": null,
   "metadata": {},
   "outputs": [],
   "source": [
    "result=results[0]"
   ]
  },
  {
   "cell_type": "code",
   "execution_count": null,
   "metadata": {},
   "outputs": [],
   "source": [
    "dsdir=result['dataset']['dsdir']\n",
    "recording=si.MdaRecordingExtractor(dataset_directory=dsdir,download=False)\n",
    "sorting_true=si.MdaSortingExtractor(firings_file=dsdir+'/firings_true.mda')\n",
    "sorting=result['sorting']"
   ]
  },
  {
   "cell_type": "code",
   "execution_count": null,
   "metadata": {},
   "outputs": [],
   "source": [
    "SC=SortingComparison(sorting_true,sorting)"
   ]
  },
  {
   "cell_type": "code",
   "execution_count": null,
   "metadata": {},
   "outputs": [],
   "source": [
    "sw.SortingComparisonTable(comparison=SC).display()"
   ]
  },
  {
   "cell_type": "code",
   "execution_count": null,
   "metadata": {},
   "outputs": [],
   "source": []
  }
 ],
 "metadata": {
  "kernelspec": {
   "display_name": "Python 3",
   "language": "python",
   "name": "python3"
  },
  "language_info": {
   "codemirror_mode": {
    "name": "ipython",
    "version": 3
   },
   "file_extension": ".py",
   "mimetype": "text/x-python",
   "name": "python",
   "nbconvert_exporter": "python",
   "pygments_lexer": "ipython3",
   "version": "3.6.6"
  }
 },
 "nbformat": 4,
 "nbformat_minor": 2
}
